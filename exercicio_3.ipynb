{
 "cells": [
  {
   "cell_type": "code",
   "execution_count": 1,
   "metadata": {},
   "outputs": [],
   "source": [
    "import pandas as pd\n",
    "import openpyxl\n",
    "\n",
    "faturamento = pd.read_excel('Faturamento mensal.xlsx')"
   ]
  },
  {
   "cell_type": "code",
   "execution_count": 2,
   "metadata": {},
   "outputs": [
    {
     "name": "stdout",
     "output_type": "stream",
     "text": [
      "   Dias         Setembro\n",
      "0   NaN              NaN\n",
      "1   1.0  Final de semana\n",
      "2   2.0           245678\n",
      "3   3.0          1067800\n",
      "4   4.0            70456\n"
     ]
    }
   ],
   "source": [
    "print(faturamento.head())"
   ]
  },
  {
   "cell_type": "code",
   "execution_count": 7,
   "metadata": {},
   "outputs": [
    {
     "name": "stdout",
     "output_type": "stream",
     "text": [
      "0            NaN\n",
      "1            NaN\n",
      "2       245678.0\n",
      "3      1067800.0\n",
      "4        70456.0\n",
      "5      1345678.0\n",
      "6       103456.0\n",
      "7            NaN\n",
      "8            NaN\n",
      "9       899009.0\n",
      "10      787796.0\n",
      "11       68957.0\n",
      "12      785768.0\n",
      "13      978543.0\n",
      "14           NaN\n",
      "15           NaN\n",
      "16        5678.0\n",
      "17       12345.0\n",
      "18      345678.0\n",
      "19      567890.0\n",
      "20       67890.0\n",
      "21           NaN\n",
      "22           NaN\n",
      "23       67890.0\n",
      "24      567890.0\n",
      "25      567890.0\n",
      "26      567890.0\n",
      "27    67890678.0\n",
      "28           NaN\n",
      "29           NaN\n",
      "30       78900.0\n",
      "31     4567890.0\n",
      "Name: Setembro, dtype: float64\n"
     ]
    }
   ],
   "source": [
    "faturamento['Setembro'] = pd.to_numeric(faturamento['Setembro'], errors='coerce')\n",
    "print(faturamento['Setembro'])"
   ]
  },
  {
   "cell_type": "code",
   "execution_count": 9,
   "metadata": {},
   "outputs": [
    {
     "name": "stdout",
     "output_type": "stream",
     "text": [
      "2       245678.0\n",
      "3      1067800.0\n",
      "4        70456.0\n",
      "5      1345678.0\n",
      "6       103456.0\n",
      "9       899009.0\n",
      "10      787796.0\n",
      "11       68957.0\n",
      "12      785768.0\n",
      "13      978543.0\n",
      "16        5678.0\n",
      "17       12345.0\n",
      "18      345678.0\n",
      "19      567890.0\n",
      "20       67890.0\n",
      "23       67890.0\n",
      "24      567890.0\n",
      "25      567890.0\n",
      "26      567890.0\n",
      "27    67890678.0\n",
      "30       78900.0\n",
      "31     4567890.0\n",
      "Name: Setembro, dtype: float64\n"
     ]
    }
   ],
   "source": [
    "faturamento = faturamento.dropna(subset=['Setembro'])\n",
    "print(faturamento['Setembro'])"
   ]
  },
  {
   "cell_type": "code",
   "execution_count": 18,
   "metadata": {},
   "outputs": [
    {
     "name": "stdout",
     "output_type": "stream",
     "text": [
      "O menor faturamento foi:  5678.0\n",
      "O maior faturamento foi:  67890678.0\n",
      "A média mensal foi:  3711893.1818181816\n",
      "O faturamento acima da média mensal:  2\n"
     ]
    }
   ],
   "source": [
    "menor_faturamento = faturamento['Setembro'].min()\n",
    "maior_faturamento = faturamento['Setembro'].max()\n",
    "media_mensal = faturamento['Setembro'].mean()\n",
    "dias_acima_da_media = faturamento[faturamento['Setembro'] > media_mensal].shape[0]\n",
    "print('O menor faturamento foi: ',menor_faturamento)\n",
    "print('O maior faturamento foi: ',maior_faturamento)\n",
    "print('A média mensal foi: ', media_mensal)\n",
    "print('Dias acima da média mensal: ', dias_acima_da_media)"
   ]
  }
 ],
 "metadata": {
  "kernelspec": {
   "display_name": "Python 3",
   "language": "python",
   "name": "python3"
  },
  "language_info": {
   "codemirror_mode": {
    "name": "ipython",
    "version": 3
   },
   "file_extension": ".py",
   "mimetype": "text/x-python",
   "name": "python",
   "nbconvert_exporter": "python",
   "pygments_lexer": "ipython3",
   "version": "3.12.1"
  }
 },
 "nbformat": 4,
 "nbformat_minor": 2
}
